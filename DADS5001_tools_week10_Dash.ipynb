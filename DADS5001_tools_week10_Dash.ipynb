{
  "nbformat": 4,
  "nbformat_minor": 0,
  "metadata": {
    "colab": {
      "provenance": [],
      "authorship_tag": "ABX9TyORS7j2bJDWkiF4JYffxTxB",
      "include_colab_link": true
    },
    "kernelspec": {
      "name": "python3",
      "display_name": "Python 3"
    },
    "language_info": {
      "name": "python"
    },
    "widgets": {
      "application/vnd.jupyter.widget-state+json": {
        "27b629af0a4d41b0950642854dcdfae4": {
          "model_module": "@jupyter-widgets/controls",
          "model_name": "VBoxModel",
          "model_module_version": "1.5.0",
          "state": {
            "_dom_classes": [],
            "_model_module": "@jupyter-widgets/controls",
            "_model_module_version": "1.5.0",
            "_model_name": "VBoxModel",
            "_view_count": null,
            "_view_module": "@jupyter-widgets/controls",
            "_view_module_version": "1.5.0",
            "_view_name": "VBoxView",
            "box_style": "",
            "children": [
              "IPY_MODEL_689b9640bfe443a997ed525cd0f5c873",
              "IPY_MODEL_d9ebcd5b8d8d437abd9e23602f293b2b",
              "IPY_MODEL_64fd06573917483293c3b270a48ef41a"
            ],
            "layout": "IPY_MODEL_4c23c98f059f45c08291dc80d9e23f60"
          }
        },
        "689b9640bfe443a997ed525cd0f5c873": {
          "model_module": "@jupyter-widgets/controls",
          "model_name": "HBoxModel",
          "model_module_version": "1.5.0",
          "state": {
            "_dom_classes": [],
            "_model_module": "@jupyter-widgets/controls",
            "_model_module_version": "1.5.0",
            "_model_name": "HBoxModel",
            "_view_count": null,
            "_view_module": "@jupyter-widgets/controls",
            "_view_module_version": "1.5.0",
            "_view_name": "HBoxView",
            "box_style": "",
            "children": [
              "IPY_MODEL_b5d265a8473142b78df2c6c539008a0c",
              "IPY_MODEL_418c8bff528a468e80e5dd3f6348a30e"
            ],
            "layout": "IPY_MODEL_a1229bb1fb2e4ee99327e3f253d77103"
          }
        },
        "d9ebcd5b8d8d437abd9e23602f293b2b": {
          "model_module": "@jupyter-widgets/controls",
          "model_name": "HBoxModel",
          "model_module_version": "1.5.0",
          "state": {
            "_dom_classes": [],
            "_model_module": "@jupyter-widgets/controls",
            "_model_module_version": "1.5.0",
            "_model_name": "HBoxModel",
            "_view_count": null,
            "_view_module": "@jupyter-widgets/controls",
            "_view_module_version": "1.5.0",
            "_view_name": "HBoxView",
            "box_style": "",
            "children": [
              "IPY_MODEL_09f6a5198ae94130a6ef01d73f253422",
              "IPY_MODEL_9c9fb8a992ca44af80adf7be42719534"
            ],
            "layout": "IPY_MODEL_bc8666da3384461e92c5d9d65c10a746"
          }
        },
        "64fd06573917483293c3b270a48ef41a": {
          "model_module": "jupyterlab-plotly",
          "model_name": "FigureModel",
          "model_module_version": "^5.15.0",
          "state": {
            "_config": {
              "plotlyServerURL": "https://plot.ly"
            },
            "_data": [
              {
                "name": "Arrival Delays",
                "opacity": 0.75,
                "x": {
                  "dtype": "float64",
                  "shape": [
                    336776
                  ]
                },
                "type": "histogram",
                "uid": "b601deda-298c-48c5-9e5c-1c7bdb8d63a4"
              },
              {
                "name": "Departure Delays",
                "opacity": 0.75,
                "x": {
                  "dtype": "float64",
                  "shape": [
                    336776
                  ]
                },
                "type": "histogram",
                "uid": "fe180b5c-bd55-41af-9941-7d1e679de991"
              }
            ],
            "_dom_classes": [],
            "_js2py_layoutDelta": null,
            "_js2py_pointsCallback": {},
            "_js2py_relayout": null,
            "_js2py_restyle": null,
            "_js2py_traceDeltas": null,
            "_js2py_update": {},
            "_last_layout_edit_id": 5,
            "_last_trace_edit_id": 4,
            "_layout": {
              "barmode": "overlay",
              "title": {
                "text": "NYC FlightDatabase"
              }
            },
            "_model_module": "jupyterlab-plotly",
            "_model_module_version": "^5.15.0",
            "_model_name": "FigureModel",
            "_py2js_addTraces": {},
            "_py2js_animate": {},
            "_py2js_deleteTraces": {},
            "_py2js_moveTraces": {},
            "_py2js_relayout": null,
            "_py2js_removeLayoutProps": {},
            "_py2js_removeTraceProps": {},
            "_py2js_restyle": null,
            "_py2js_update": null,
            "_view_count": 1,
            "_view_module": "jupyterlab-plotly",
            "_view_module_version": "^5.15.0",
            "_view_name": "FigureView"
          }
        },
        "4c23c98f059f45c08291dc80d9e23f60": {
          "model_module": "@jupyter-widgets/base",
          "model_name": "LayoutModel",
          "model_module_version": "1.2.0",
          "state": {
            "_model_module": "@jupyter-widgets/base",
            "_model_module_version": "1.2.0",
            "_model_name": "LayoutModel",
            "_view_count": null,
            "_view_module": "@jupyter-widgets/base",
            "_view_module_version": "1.2.0",
            "_view_name": "LayoutView",
            "align_content": null,
            "align_items": null,
            "align_self": null,
            "border": null,
            "bottom": null,
            "display": null,
            "flex": null,
            "flex_flow": null,
            "grid_area": null,
            "grid_auto_columns": null,
            "grid_auto_flow": null,
            "grid_auto_rows": null,
            "grid_column": null,
            "grid_gap": null,
            "grid_row": null,
            "grid_template_areas": null,
            "grid_template_columns": null,
            "grid_template_rows": null,
            "height": null,
            "justify_content": null,
            "justify_items": null,
            "left": null,
            "margin": null,
            "max_height": null,
            "max_width": null,
            "min_height": null,
            "min_width": null,
            "object_fit": null,
            "object_position": null,
            "order": null,
            "overflow": null,
            "overflow_x": null,
            "overflow_y": null,
            "padding": null,
            "right": null,
            "top": null,
            "visibility": null,
            "width": null
          }
        },
        "b5d265a8473142b78df2c6c539008a0c": {
          "model_module": "@jupyter-widgets/controls",
          "model_name": "CheckboxModel",
          "model_module_version": "1.5.0",
          "state": {
            "_dom_classes": [],
            "_model_module": "@jupyter-widgets/controls",
            "_model_module_version": "1.5.0",
            "_model_name": "CheckboxModel",
            "_view_count": null,
            "_view_module": "@jupyter-widgets/controls",
            "_view_module_version": "1.5.0",
            "_view_name": "CheckboxView",
            "description": "Date: ",
            "description_tooltip": null,
            "disabled": false,
            "indent": true,
            "layout": "IPY_MODEL_8da6f9f2934e4439a76357e8d768ba78",
            "style": "IPY_MODEL_db04ba1c89644d22ab220bbeca8a5c98",
            "value": true
          }
        },
        "418c8bff528a468e80e5dd3f6348a30e": {
          "model_module": "@jupyter-widgets/controls",
          "model_name": "IntSliderModel",
          "model_module_version": "1.5.0",
          "state": {
            "_dom_classes": [],
            "_model_module": "@jupyter-widgets/controls",
            "_model_module_version": "1.5.0",
            "_model_name": "IntSliderModel",
            "_view_count": null,
            "_view_module": "@jupyter-widgets/controls",
            "_view_module_version": "1.5.0",
            "_view_name": "IntSliderView",
            "continuous_update": false,
            "description": "Month:",
            "description_tooltip": null,
            "disabled": false,
            "layout": "IPY_MODEL_af08f848d9b145cc8213e78dd1ea1d14",
            "max": 12,
            "min": 1,
            "orientation": "horizontal",
            "readout": true,
            "readout_format": "d",
            "step": 1,
            "style": "IPY_MODEL_a719874bcc944bc8b10e93cf4b235c02",
            "value": 7
          }
        },
        "a1229bb1fb2e4ee99327e3f253d77103": {
          "model_module": "@jupyter-widgets/base",
          "model_name": "LayoutModel",
          "model_module_version": "1.2.0",
          "state": {
            "_model_module": "@jupyter-widgets/base",
            "_model_module_version": "1.2.0",
            "_model_name": "LayoutModel",
            "_view_count": null,
            "_view_module": "@jupyter-widgets/base",
            "_view_module_version": "1.2.0",
            "_view_name": "LayoutView",
            "align_content": null,
            "align_items": null,
            "align_self": null,
            "border": null,
            "bottom": null,
            "display": null,
            "flex": null,
            "flex_flow": null,
            "grid_area": null,
            "grid_auto_columns": null,
            "grid_auto_flow": null,
            "grid_auto_rows": null,
            "grid_column": null,
            "grid_gap": null,
            "grid_row": null,
            "grid_template_areas": null,
            "grid_template_columns": null,
            "grid_template_rows": null,
            "height": null,
            "justify_content": null,
            "justify_items": null,
            "left": null,
            "margin": null,
            "max_height": null,
            "max_width": null,
            "min_height": null,
            "min_width": null,
            "object_fit": null,
            "object_position": null,
            "order": null,
            "overflow": null,
            "overflow_x": null,
            "overflow_y": null,
            "padding": null,
            "right": null,
            "top": null,
            "visibility": null,
            "width": null
          }
        },
        "09f6a5198ae94130a6ef01d73f253422": {
          "model_module": "@jupyter-widgets/controls",
          "model_name": "DropdownModel",
          "model_module_version": "1.5.0",
          "state": {
            "_dom_classes": [],
            "_model_module": "@jupyter-widgets/controls",
            "_model_module_version": "1.5.0",
            "_model_name": "DropdownModel",
            "_options_labels": [
              "EWR",
              "LGA",
              "JFK"
            ],
            "_view_count": null,
            "_view_module": "@jupyter-widgets/controls",
            "_view_module_version": "1.5.0",
            "_view_name": "DropdownView",
            "description": "Origin Airport:",
            "description_tooltip": null,
            "disabled": false,
            "index": 2,
            "layout": "IPY_MODEL_dd3d25b343854296ab812ae257484383",
            "style": "IPY_MODEL_0ed33c70cb69479dbe9357ca51d78096"
          }
        },
        "9c9fb8a992ca44af80adf7be42719534": {
          "model_module": "@jupyter-widgets/controls",
          "model_name": "DropdownModel",
          "model_module_version": "1.5.0",
          "state": {
            "_dom_classes": [],
            "_model_module": "@jupyter-widgets/controls",
            "_model_module_version": "1.5.0",
            "_model_name": "DropdownModel",
            "_options_labels": [
              "UA",
              "AA",
              "B6",
              "DL",
              "EV",
              "MQ",
              "US",
              "WN",
              "VX",
              "FL",
              "AS",
              "9E",
              "F9",
              "HA",
              "YV",
              "OO"
            ],
            "_view_count": null,
            "_view_module": "@jupyter-widgets/controls",
            "_view_module_version": "1.5.0",
            "_view_name": "DropdownView",
            "description": "Airline:   ",
            "description_tooltip": null,
            "disabled": false,
            "index": 3,
            "layout": "IPY_MODEL_a20103225ced40669758bdc4d4b8eaf7",
            "style": "IPY_MODEL_7d38d8745c8044479b083a943fdaa137"
          }
        },
        "bc8666da3384461e92c5d9d65c10a746": {
          "model_module": "@jupyter-widgets/base",
          "model_name": "LayoutModel",
          "model_module_version": "1.2.0",
          "state": {
            "_model_module": "@jupyter-widgets/base",
            "_model_module_version": "1.2.0",
            "_model_name": "LayoutModel",
            "_view_count": null,
            "_view_module": "@jupyter-widgets/base",
            "_view_module_version": "1.2.0",
            "_view_name": "LayoutView",
            "align_content": null,
            "align_items": null,
            "align_self": null,
            "border": null,
            "bottom": null,
            "display": null,
            "flex": null,
            "flex_flow": null,
            "grid_area": null,
            "grid_auto_columns": null,
            "grid_auto_flow": null,
            "grid_auto_rows": null,
            "grid_column": null,
            "grid_gap": null,
            "grid_row": null,
            "grid_template_areas": null,
            "grid_template_columns": null,
            "grid_template_rows": null,
            "height": null,
            "justify_content": null,
            "justify_items": null,
            "left": null,
            "margin": null,
            "max_height": null,
            "max_width": null,
            "min_height": null,
            "min_width": null,
            "object_fit": null,
            "object_position": null,
            "order": null,
            "overflow": null,
            "overflow_x": null,
            "overflow_y": null,
            "padding": null,
            "right": null,
            "top": null,
            "visibility": null,
            "width": null
          }
        },
        "8da6f9f2934e4439a76357e8d768ba78": {
          "model_module": "@jupyter-widgets/base",
          "model_name": "LayoutModel",
          "model_module_version": "1.2.0",
          "state": {
            "_model_module": "@jupyter-widgets/base",
            "_model_module_version": "1.2.0",
            "_model_name": "LayoutModel",
            "_view_count": null,
            "_view_module": "@jupyter-widgets/base",
            "_view_module_version": "1.2.0",
            "_view_name": "LayoutView",
            "align_content": null,
            "align_items": null,
            "align_self": null,
            "border": null,
            "bottom": null,
            "display": null,
            "flex": null,
            "flex_flow": null,
            "grid_area": null,
            "grid_auto_columns": null,
            "grid_auto_flow": null,
            "grid_auto_rows": null,
            "grid_column": null,
            "grid_gap": null,
            "grid_row": null,
            "grid_template_areas": null,
            "grid_template_columns": null,
            "grid_template_rows": null,
            "height": null,
            "justify_content": null,
            "justify_items": null,
            "left": null,
            "margin": null,
            "max_height": null,
            "max_width": null,
            "min_height": null,
            "min_width": null,
            "object_fit": null,
            "object_position": null,
            "order": null,
            "overflow": null,
            "overflow_x": null,
            "overflow_y": null,
            "padding": null,
            "right": null,
            "top": null,
            "visibility": null,
            "width": null
          }
        },
        "db04ba1c89644d22ab220bbeca8a5c98": {
          "model_module": "@jupyter-widgets/controls",
          "model_name": "DescriptionStyleModel",
          "model_module_version": "1.5.0",
          "state": {
            "_model_module": "@jupyter-widgets/controls",
            "_model_module_version": "1.5.0",
            "_model_name": "DescriptionStyleModel",
            "_view_count": null,
            "_view_module": "@jupyter-widgets/base",
            "_view_module_version": "1.2.0",
            "_view_name": "StyleView",
            "description_width": ""
          }
        },
        "af08f848d9b145cc8213e78dd1ea1d14": {
          "model_module": "@jupyter-widgets/base",
          "model_name": "LayoutModel",
          "model_module_version": "1.2.0",
          "state": {
            "_model_module": "@jupyter-widgets/base",
            "_model_module_version": "1.2.0",
            "_model_name": "LayoutModel",
            "_view_count": null,
            "_view_module": "@jupyter-widgets/base",
            "_view_module_version": "1.2.0",
            "_view_name": "LayoutView",
            "align_content": null,
            "align_items": null,
            "align_self": null,
            "border": null,
            "bottom": null,
            "display": null,
            "flex": null,
            "flex_flow": null,
            "grid_area": null,
            "grid_auto_columns": null,
            "grid_auto_flow": null,
            "grid_auto_rows": null,
            "grid_column": null,
            "grid_gap": null,
            "grid_row": null,
            "grid_template_areas": null,
            "grid_template_columns": null,
            "grid_template_rows": null,
            "height": null,
            "justify_content": null,
            "justify_items": null,
            "left": null,
            "margin": null,
            "max_height": null,
            "max_width": null,
            "min_height": null,
            "min_width": null,
            "object_fit": null,
            "object_position": null,
            "order": null,
            "overflow": null,
            "overflow_x": null,
            "overflow_y": null,
            "padding": null,
            "right": null,
            "top": null,
            "visibility": null,
            "width": null
          }
        },
        "a719874bcc944bc8b10e93cf4b235c02": {
          "model_module": "@jupyter-widgets/controls",
          "model_name": "SliderStyleModel",
          "model_module_version": "1.5.0",
          "state": {
            "_model_module": "@jupyter-widgets/controls",
            "_model_module_version": "1.5.0",
            "_model_name": "SliderStyleModel",
            "_view_count": null,
            "_view_module": "@jupyter-widgets/base",
            "_view_module_version": "1.2.0",
            "_view_name": "StyleView",
            "description_width": "",
            "handle_color": null
          }
        },
        "dd3d25b343854296ab812ae257484383": {
          "model_module": "@jupyter-widgets/base",
          "model_name": "LayoutModel",
          "model_module_version": "1.2.0",
          "state": {
            "_model_module": "@jupyter-widgets/base",
            "_model_module_version": "1.2.0",
            "_model_name": "LayoutModel",
            "_view_count": null,
            "_view_module": "@jupyter-widgets/base",
            "_view_module_version": "1.2.0",
            "_view_name": "LayoutView",
            "align_content": null,
            "align_items": null,
            "align_self": null,
            "border": null,
            "bottom": null,
            "display": null,
            "flex": null,
            "flex_flow": null,
            "grid_area": null,
            "grid_auto_columns": null,
            "grid_auto_flow": null,
            "grid_auto_rows": null,
            "grid_column": null,
            "grid_gap": null,
            "grid_row": null,
            "grid_template_areas": null,
            "grid_template_columns": null,
            "grid_template_rows": null,
            "height": null,
            "justify_content": null,
            "justify_items": null,
            "left": null,
            "margin": null,
            "max_height": null,
            "max_width": null,
            "min_height": null,
            "min_width": null,
            "object_fit": null,
            "object_position": null,
            "order": null,
            "overflow": null,
            "overflow_x": null,
            "overflow_y": null,
            "padding": null,
            "right": null,
            "top": null,
            "visibility": null,
            "width": null
          }
        },
        "0ed33c70cb69479dbe9357ca51d78096": {
          "model_module": "@jupyter-widgets/controls",
          "model_name": "DescriptionStyleModel",
          "model_module_version": "1.5.0",
          "state": {
            "_model_module": "@jupyter-widgets/controls",
            "_model_module_version": "1.5.0",
            "_model_name": "DescriptionStyleModel",
            "_view_count": null,
            "_view_module": "@jupyter-widgets/base",
            "_view_module_version": "1.2.0",
            "_view_name": "StyleView",
            "description_width": ""
          }
        },
        "a20103225ced40669758bdc4d4b8eaf7": {
          "model_module": "@jupyter-widgets/base",
          "model_name": "LayoutModel",
          "model_module_version": "1.2.0",
          "state": {
            "_model_module": "@jupyter-widgets/base",
            "_model_module_version": "1.2.0",
            "_model_name": "LayoutModel",
            "_view_count": null,
            "_view_module": "@jupyter-widgets/base",
            "_view_module_version": "1.2.0",
            "_view_name": "LayoutView",
            "align_content": null,
            "align_items": null,
            "align_self": null,
            "border": null,
            "bottom": null,
            "display": null,
            "flex": null,
            "flex_flow": null,
            "grid_area": null,
            "grid_auto_columns": null,
            "grid_auto_flow": null,
            "grid_auto_rows": null,
            "grid_column": null,
            "grid_gap": null,
            "grid_row": null,
            "grid_template_areas": null,
            "grid_template_columns": null,
            "grid_template_rows": null,
            "height": null,
            "justify_content": null,
            "justify_items": null,
            "left": null,
            "margin": null,
            "max_height": null,
            "max_width": null,
            "min_height": null,
            "min_width": null,
            "object_fit": null,
            "object_position": null,
            "order": null,
            "overflow": null,
            "overflow_x": null,
            "overflow_y": null,
            "padding": null,
            "right": null,
            "top": null,
            "visibility": null,
            "width": null
          }
        },
        "7d38d8745c8044479b083a943fdaa137": {
          "model_module": "@jupyter-widgets/controls",
          "model_name": "DescriptionStyleModel",
          "model_module_version": "1.5.0",
          "state": {
            "_model_module": "@jupyter-widgets/controls",
            "_model_module_version": "1.5.0",
            "_model_name": "DescriptionStyleModel",
            "_view_count": null,
            "_view_module": "@jupyter-widgets/base",
            "_view_module_version": "1.2.0",
            "_view_name": "StyleView",
            "description_width": ""
          }
        }
      }
    }
  },
  "cells": [
    {
      "cell_type": "markdown",
      "metadata": {
        "id": "view-in-github",
        "colab_type": "text"
      },
      "source": [
        "<a href=\"https://colab.research.google.com/github/Thanawat-L/DADS/blob/main/DADS5001_tools_week10_Dash.ipynb\" target=\"_parent\"><img src=\"https://colab.research.google.com/assets/colab-badge.svg\" alt=\"Open In Colab\"/></a>"
      ]
    },
    {
      "cell_type": "code",
      "execution_count": null,
      "metadata": {
        "id": "1OgsW2VkIlqa"
      },
      "outputs": [],
      "source": [
        "import datetime\n",
        "import numpy as np\n",
        "import pandas as pd\n",
        "\n",
        "import plotly.graph_objects as go\n",
        "from ipywidgets import widgets"
      ]
    },
    {
      "cell_type": "code",
      "source": [
        "df = pd.read_csv(\n",
        "    'https://raw.githubusercontent.com/yankev/testing/master/datasets/nycflights.csv')\n",
        "df = df.drop(df.columns[[0]], axis=1)"
      ],
      "metadata": {
        "id": "_IhcTe6PJy28"
      },
      "execution_count": null,
      "outputs": []
    },
    {
      "cell_type": "code",
      "source": [
        "df['carrier'].unique()"
      ],
      "metadata": {
        "colab": {
          "base_uri": "https://localhost:8080/"
        },
        "id": "DW1BGFn2J2UA",
        "outputId": "763ced4a-2ee8-4a0d-9123-5a36dc90c13f"
      },
      "execution_count": null,
      "outputs": [
        {
          "output_type": "execute_result",
          "data": {
            "text/plain": [
              "array(['UA', 'AA', 'B6', 'DL', 'EV', 'MQ', 'US', 'WN', 'VX', 'FL', 'AS',\n",
              "       '9E', 'F9', 'HA', 'YV', 'OO'], dtype=object)"
            ]
          },
          "metadata": {},
          "execution_count": 13
        }
      ]
    },
    {
      "cell_type": "code",
      "source": [
        "month = widgets.IntSlider(\n",
        "    value=1.0,\n",
        "    min=1.0,\n",
        "    max=12.0,\n",
        "    step=1.0,\n",
        "    description='Month:',\n",
        "    continuous_update=False #ให้อัพเดตเฉพาะที่เรา click\n",
        ")\n",
        "\n",
        "use_date = widgets.Checkbox(\n",
        "    description='Date: ',\n",
        "    value=True,\n",
        ")\n",
        "\n",
        "container = widgets.HBox(children=[use_date, month])\n",
        "\n",
        "textbox = widgets.Dropdown(\n",
        "    description='Airline:   ',\n",
        "    value='DL',\n",
        "    options=df['carrier'].unique().tolist()\n",
        ")\n",
        "\n",
        "origin = widgets.Dropdown(\n",
        "    options=list(df['origin'].unique()),\n",
        "    value='LGA',\n",
        "    description='Origin Airport:',\n",
        ")\n",
        "\n",
        "\n",
        "# Assign an empty figure widget with two traces\n",
        "trace1 = go.Histogram(x=df['arr_delay'], opacity=0.75, name='Arrival Delays')\n",
        "trace2 = go.Histogram(x=df['dep_delay'], opacity=0.75, name='Departure Delays')\n",
        "g = go.FigureWidget(data=[trace1, trace2], #ตัว layout ที่เราจะเอามา update\n",
        "                    layout=go.Layout(\n",
        "                        title=dict(\n",
        "                            text='NYC FlightDatabase'\n",
        "                        ),\n",
        "                        barmode='overlay'\n",
        "                    ))"
      ],
      "metadata": {
        "id": "NnzfIz0tJ-iE"
      },
      "execution_count": null,
      "outputs": []
    },
    {
      "cell_type": "code",
      "source": [
        "def validate(): #เช็คกว่าจะทำหรือไม่ทำ\n",
        "    if origin.value in df['origin'].unique() and textbox.value in df['carrier'].unique():\n",
        "        return True\n",
        "    else:\n",
        "        return False\n",
        "\n",
        "\n",
        "def response(change):\n",
        "    if validate():\n",
        "        if use_date.value:\n",
        "            filter_list = [i and j and k for i, j, k in\n",
        "                           zip(df['month'] == month.value, df['carrier'] == textbox.value,\n",
        "                               df['origin'] == origin.value)]\n",
        "            temp_df = df[filter_list]\n",
        "\n",
        "        else:\n",
        "            filter_list = [i and j for i, j in\n",
        "                           zip(df['carrier'] == 'DL', df['origin'] == origin.value)]\n",
        "            temp_df = df[filter_list]\n",
        "        x1 = temp_df['arr_delay']\n",
        "        x2 = temp_df['dep_delay']\n",
        "        with g.batch_update():\n",
        "            g.data[0].x = x1\n",
        "            g.data[1].x = x2\n",
        "            g.layout.barmode = 'overlay'\n",
        "            g.layout.xaxis.title = 'Delay in Minutes'\n",
        "            g.layout.yaxis.title = 'Number of Delays'\n",
        "\n",
        "\n",
        "origin.observe(response, names=\"value\")\n",
        "textbox.observe(response, names=\"value\")\n",
        "month.observe(response, names=\"value\") #จะ response ยังไง\n",
        "use_date.observe(response, names=\"value\")"
      ],
      "metadata": {
        "id": "1iBo7naaKLFT"
      },
      "execution_count": null,
      "outputs": []
    },
    {
      "cell_type": "code",
      "source": [
        "from google.colab import output\n",
        "output.enable_custom_widget_manager()"
      ],
      "metadata": {
        "id": "77rE_D7ZKYf8"
      },
      "execution_count": null,
      "outputs": []
    },
    {
      "cell_type": "code",
      "source": [
        "container2 = widgets.HBox([origin, textbox])\n",
        "widgets.VBox([container,\n",
        "              container2,\n",
        "              g])"
      ],
      "metadata": {
        "colab": {
          "base_uri": "https://localhost:8080/",
          "height": 441,
          "referenced_widgets": [
            "27b629af0a4d41b0950642854dcdfae4",
            "689b9640bfe443a997ed525cd0f5c873",
            "d9ebcd5b8d8d437abd9e23602f293b2b",
            "64fd06573917483293c3b270a48ef41a",
            "4c23c98f059f45c08291dc80d9e23f60",
            "b5d265a8473142b78df2c6c539008a0c",
            "418c8bff528a468e80e5dd3f6348a30e",
            "a1229bb1fb2e4ee99327e3f253d77103",
            "09f6a5198ae94130a6ef01d73f253422",
            "9c9fb8a992ca44af80adf7be42719534",
            "bc8666da3384461e92c5d9d65c10a746",
            "8da6f9f2934e4439a76357e8d768ba78",
            "db04ba1c89644d22ab220bbeca8a5c98",
            "af08f848d9b145cc8213e78dd1ea1d14",
            "a719874bcc944bc8b10e93cf4b235c02",
            "dd3d25b343854296ab812ae257484383",
            "0ed33c70cb69479dbe9357ca51d78096",
            "a20103225ced40669758bdc4d4b8eaf7",
            "7d38d8745c8044479b083a943fdaa137"
          ]
        },
        "id": "06ZlHjpMKOEe",
        "outputId": "f44c0f73-985b-44fb-f1b6-39fb07c1fdc5"
      },
      "execution_count": null,
      "outputs": [
        {
          "output_type": "display_data",
          "data": {
            "text/plain": [
              "VBox(children=(HBox(children=(Checkbox(value=True, description='Date: '), IntSlider(value=1, continuous_update…"
            ],
            "application/vnd.jupyter.widget-view+json": {
              "version_major": 2,
              "version_minor": 0,
              "model_id": "27b629af0a4d41b0950642854dcdfae4"
            }
          },
          "metadata": {
            "application/vnd.jupyter.widget-view+json": {
              "colab": {
                "custom_widget_manager": {
                  "url": "https://ssl.gstatic.com/colaboratory-static/widgets/colab-cdn-widget-manager/2b70e893a8ba7c0f/manager.min.js"
                }
              }
            }
          }
        }
      ]
    },
    {
      "cell_type": "markdown",
      "source": [
        "Support for third party widgets will remain active for the duration of the session. To disable support:"
      ],
      "metadata": {
        "id": "skoxLePnKQ6P"
      }
    }
  ]
}